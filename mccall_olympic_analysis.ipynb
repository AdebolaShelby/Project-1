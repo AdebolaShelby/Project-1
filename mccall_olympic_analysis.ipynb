{
 "cells": [
  {
   "cell_type": "markdown",
   "metadata": {},
   "source": []
  },
  {
   "cell_type": "code",
   "execution_count": 1,
   "metadata": {},
   "outputs": [],
   "source": [
    "# Import modules\n",
    "import os\n",
    "import csv\n",
    "import pandas as pd\n",
    "from pathlib import Path\n",
    "import pycountry\n",
    "import numpy as np\n",
    "import matplotlib.pyplot as plt\n",
    "\n",
    "#print(os.getcwd())\n",
    "\n",
    "\n",
    "#print(\"Files in Current Directory:\", os.listdir(os.getcwd()))\n",
    "\n",
    "\n"
   ]
  },
  {
   "cell_type": "code",
   "execution_count": 2,
   "metadata": {},
   "outputs": [],
   "source": [
    "# Set the file path & read the files\n",
    "summer_olympics_data = Path(\"Resources/summer_olympics_data.csv\")\n",
    "olympic_data = pd.read_csv(summer_olympics_data)\n",
    "\n",
    "\n",
    "dictionary_data_to_load = Path(\"Resources/dictionary.csv\")\n",
    "country_data = pd.read_csv(dictionary_data_to_load)\n",
    "\n"
   ]
  },
  {
   "cell_type": "code",
   "execution_count": 7,
   "metadata": {},
   "outputs": [
    {
     "data": {
      "text/html": [
       "<div>\n",
       "<style scoped>\n",
       "    .dataframe tbody tr th:only-of-type {\n",
       "        vertical-align: middle;\n",
       "    }\n",
       "\n",
       "    .dataframe tbody tr th {\n",
       "        vertical-align: top;\n",
       "    }\n",
       "\n",
       "    .dataframe thead th {\n",
       "        text-align: right;\n",
       "    }\n",
       "</style>\n",
       "<table border=\"1\" class=\"dataframe\">\n",
       "  <thead>\n",
       "    <tr style=\"text-align: right;\">\n",
       "      <th></th>\n",
       "      <th>Year</th>\n",
       "      <th>City</th>\n",
       "      <th>Sport</th>\n",
       "      <th>Discipline</th>\n",
       "      <th>Athlete</th>\n",
       "      <th>Country</th>\n",
       "      <th>Gender</th>\n",
       "      <th>Event</th>\n",
       "      <th>Medal</th>\n",
       "    </tr>\n",
       "  </thead>\n",
       "  <tbody>\n",
       "    <tr>\n",
       "      <th>0</th>\n",
       "      <td>1896</td>\n",
       "      <td>Athens</td>\n",
       "      <td>Aquatics</td>\n",
       "      <td>Swimming</td>\n",
       "      <td>HAJOS, Alfred</td>\n",
       "      <td>HUN</td>\n",
       "      <td>Men</td>\n",
       "      <td>100M Freestyle</td>\n",
       "      <td>Gold</td>\n",
       "    </tr>\n",
       "    <tr>\n",
       "      <th>1</th>\n",
       "      <td>1896</td>\n",
       "      <td>Athens</td>\n",
       "      <td>Aquatics</td>\n",
       "      <td>Swimming</td>\n",
       "      <td>HERSCHMANN, Otto</td>\n",
       "      <td>AUT</td>\n",
       "      <td>Men</td>\n",
       "      <td>100M Freestyle</td>\n",
       "      <td>Silver</td>\n",
       "    </tr>\n",
       "    <tr>\n",
       "      <th>2</th>\n",
       "      <td>1896</td>\n",
       "      <td>Athens</td>\n",
       "      <td>Aquatics</td>\n",
       "      <td>Swimming</td>\n",
       "      <td>DRIVAS, Dimitrios</td>\n",
       "      <td>GRE</td>\n",
       "      <td>Men</td>\n",
       "      <td>100M Freestyle For Sailors</td>\n",
       "      <td>Bronze</td>\n",
       "    </tr>\n",
       "    <tr>\n",
       "      <th>3</th>\n",
       "      <td>1896</td>\n",
       "      <td>Athens</td>\n",
       "      <td>Aquatics</td>\n",
       "      <td>Swimming</td>\n",
       "      <td>MALOKINIS, Ioannis</td>\n",
       "      <td>GRE</td>\n",
       "      <td>Men</td>\n",
       "      <td>100M Freestyle For Sailors</td>\n",
       "      <td>Gold</td>\n",
       "    </tr>\n",
       "    <tr>\n",
       "      <th>4</th>\n",
       "      <td>1896</td>\n",
       "      <td>Athens</td>\n",
       "      <td>Aquatics</td>\n",
       "      <td>Swimming</td>\n",
       "      <td>CHASAPIS, Spiridon</td>\n",
       "      <td>GRE</td>\n",
       "      <td>Men</td>\n",
       "      <td>100M Freestyle For Sailors</td>\n",
       "      <td>Silver</td>\n",
       "    </tr>\n",
       "  </tbody>\n",
       "</table>\n",
       "</div>"
      ],
      "text/plain": [
       "   Year    City     Sport Discipline             Athlete Country Gender  \\\n",
       "0  1896  Athens  Aquatics   Swimming       HAJOS, Alfred     HUN    Men   \n",
       "1  1896  Athens  Aquatics   Swimming    HERSCHMANN, Otto     AUT    Men   \n",
       "2  1896  Athens  Aquatics   Swimming   DRIVAS, Dimitrios     GRE    Men   \n",
       "3  1896  Athens  Aquatics   Swimming  MALOKINIS, Ioannis     GRE    Men   \n",
       "4  1896  Athens  Aquatics   Swimming  CHASAPIS, Spiridon     GRE    Men   \n",
       "\n",
       "                        Event   Medal  \n",
       "0              100M Freestyle    Gold  \n",
       "1              100M Freestyle  Silver  \n",
       "2  100M Freestyle For Sailors  Bronze  \n",
       "3  100M Freestyle For Sailors    Gold  \n",
       "4  100M Freestyle For Sailors  Silver  "
      ]
     },
     "execution_count": 7,
     "metadata": {},
     "output_type": "execute_result"
    }
   ],
   "source": [
    "# Create data frames for the data and merge\n",
    "\n",
    "olympic_data_df = pd.DataFrame(olympic_data)\n",
    "olympic_data_df.head()\n",
    "#print(olympic_data_df.info())\n",
    "\n",
    "country_data_df = pd.DataFrame(country_data)\n",
    "#country_data_df.head()\n",
    "#print(country_data_df.head())\n",
    "#print(country_data_df.info())\n",
    "\n",
    "# Merge the data\n",
    "#merged_data = pd.merge(olympic_data_df, country_data_df, on=\"Country\", how=\"outer\")\n",
    "\n",
    "#print(merged_data.head())\n",
    "#print(merged_data.info())"
   ]
  },
  {
   "cell_type": "code",
   "execution_count": null,
   "metadata": {},
   "outputs": [],
   "source": [
    "# Because the dictionary csv only has the countries in three letter codes, name mapping has to be done before the merge\n",
    "\n"
   ]
  },
  {
   "cell_type": "code",
   "execution_count": null,
   "metadata": {},
   "outputs": [],
   "source": [
    "print(type(olympic_data_df))\n",
    "print(type(country_data_df))"
   ]
  },
  {
   "cell_type": "code",
   "execution_count": null,
   "metadata": {},
   "outputs": [],
   "source": [
    "# Clean the data\n",
    "olympic_data_df.columns = olympic_data_df.columns.str.strip()\n",
    "country_data_df.columns = country_data_df.columns.str.strip()\n",
    "\n",
    "olympic_data_df[\"Country\"] = olympic_data_df[\"Country\"].str.strip()\n",
    "country_data_df[\"Country\"] = country_data_df[\"Country\"].str.strip()\n",
    "\n",
    "#print(olympic_data.isnull().sum())\n",
    "#print(country_data.isnull().sum())\n",
    "\n",
    "# Drop the null values\n",
    "#olympic_data_df.dropna(subset=[\"Year\", \"City\", \"Sport\", \"Discipline\", \"Athlete\", \"Country\", \"Gender\"], inplace=True)\n",
    "#country_data_df.dropna(subset=[\"Country\", \"Code\", \"population\", \"GDP per Capita\"], inplace=True)\n",
    "\n",
    "olympic_data_df_cleaned = olympic_data_df.dropna()\n",
    "country_data_df_cleaned = country_data_df.dropna()\n",
    "\n",
    "print(olympic_data_df_cleaned.isnull().sum())\n",
    "print(country_data_df_cleaned.isnull().sum())\n",
    "\n"
   ]
  },
  {
   "cell_type": "code",
   "execution_count": null,
   "metadata": {},
   "outputs": [],
   "source": [
    "merged_data = pd.merge(olympic_data_df_cleaned, country_data_df_cleaned, on=\"Country\", how=\"outer\")\n",
    "print(merged_data.head())\n",
    "\n",
    "merged_data.to_csv(\"merged_output_file.csv\", index=False)\n",
    "print(\"Merged DF has been successfully saved to 'merged_output_file.csv'\")\n",
    "\n",
    "\n",
    "# Merge the data\n",
    "#merged_data = pd.merge(olympic_data_df_cleaned, country_data_df_cleaned, on=\"Country\", how=\"outer\")\n",
    "\n",
    "# Create a new data frame\n",
    "#merged_data_df = pd.DataFrame(merged_data)\n",
    "\n",
    "#print(merged_data_df.head())\n",
    "#print(merged_data.info())"
   ]
  },
  {
   "cell_type": "code",
   "execution_count": null,
   "metadata": {},
   "outputs": [],
   "source": [
    "merged_data_df.to_csv(\"merged_output_file.csv\", index=False)\n"
   ]
  },
  {
   "cell_type": "code",
   "execution_count": null,
   "metadata": {},
   "outputs": [],
   "source": []
  }
 ],
 "metadata": {
  "kernelspec": {
   "display_name": "dev",
   "language": "python",
   "name": "python3"
  },
  "language_info": {
   "codemirror_mode": {
    "name": "ipython",
    "version": 3
   },
   "file_extension": ".py",
   "mimetype": "text/x-python",
   "name": "python",
   "nbconvert_exporter": "python",
   "pygments_lexer": "ipython3",
   "version": "3.11.9"
  }
 },
 "nbformat": 4,
 "nbformat_minor": 2
}
